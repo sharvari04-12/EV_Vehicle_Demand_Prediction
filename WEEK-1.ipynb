{
 "cells": [
  {
   "cell_type": "code",
   "execution_count": null,
   "id": "ca3ff9a3",
   "metadata": {},
   "outputs": [],
   "source": [
    "#Import Required Libraries\n",
    "import joblib\n",
    "import numpy as np\n",
    "import pandas as pd\n",
    "import seaborn as sns\n",
    "import matplotlib.pyplot as plt\n",
    "from sklearn.preprocessing import LabelEncoder\n",
    "from sklearn.ensemble import RandomForestRegressor\n",
    "from sklearn.model_selection import train_test_split\n",
    "from sklearn.model_selection import RandomizedSearchCV\n",
    "from sklearn.metrics import mean_absolute_error, mean_squared_error, r2_score\n",
    "#Load Dataset\n",
    "# Load data\n",
    "df =  pd.read_csv(r\"C:\\Users\\sharv\\OneDrive\\Desktop\\Shell internship\\Electric_Vehicle_Population_By_County.csv\")\n",
    "#Explore and Understand the Data\n",
    "df.head() # top 5 rows\n",
    "# no of rows and cols\n",
    "df.shape\n",
    "# Data Types, class and memory alloc\n",
    "df.info()\n",
    "df.isnull().sum()\n",
    "#Check if any column contain outliers."
   ]
  },
  {
   "cell_type": "code",
   "execution_count": null,
   "id": "2e26bf3b",
   "metadata": {},
   "outputs": [],
   "source": [
    "# Compute Q1 and Q3\n",
    "Q1 = df['Percent Electric Vehicles'].quantile(0.25)\n",
    "Q3 = df['Percent Electric Vehicles'].quantile(0.75)\n",
    "IQR = Q3 - Q1"
   ]
  },
  {
   "cell_type": "code",
   "execution_count": null,
   "id": "5c5cd7e3",
   "metadata": {},
   "outputs": [],
   "source": [
    "# Define outlier boundaries\n",
    "lower_bound = Q1 - 1.5 * IQR\n",
    "upper_bound = Q3 + 1.5 * IQR\n",
    "print('lower_bound:', lower_bound)\n",
    "print('upper_bound:', upper_bound)"
   ]
  },
  {
   "cell_type": "code",
   "execution_count": null,
   "id": "7f23fb4e",
   "metadata": {},
   "outputs": [],
   "source": [
    "# Identify outliers\n",
    "outliers = df[(df['Percent Electric Vehicles'] < lower_bound) | (df['Percent Electric Vehicles'] > upper_bound)]\n",
    "print(\"Number of outliers in 'Percent Electric Vehicles':\", outliers.shape[0])"
   ]
  },
  {
   "cell_type": "markdown",
   "id": "972e7351",
   "metadata": {},
   "source": [
    "Data Preprocessing\n",
    "Basic Data Cleaning"
   ]
  },
  {
   "cell_type": "code",
   "execution_count": null,
   "id": "5b1b807a",
   "metadata": {},
   "outputs": [],
   "source": [
    "# Converts the \"Date\" column to actual datetime objects\n",
    "df['Date'] = pd.to_datetime(df['Date'], errors='coerce')"
   ]
  },
  {
   "cell_type": "code",
   "execution_count": null,
   "id": "3320130c",
   "metadata": {},
   "outputs": [],
   "source": [
    "# Removes rows where \"Date\" conversion failed\n",
    "df = df[df['Date'].notnull()]"
   ]
  },
  {
   "cell_type": "code",
   "execution_count": null,
   "id": "0cd570cb",
   "metadata": {},
   "outputs": [],
   "source": [
    "# Removes rows where the target (EV Total) is missing\n",
    "df = df[df['Electric Vehicle (EV) Total'].notnull()]"
   ]
  },
  {
   "cell_type": "code",
   "execution_count": null,
   "id": "b5a57feb",
   "metadata": {},
   "outputs": [],
   "source": [
    "# Fill missing values\n",
    "df['County'] = df['County'].fillna('Unknown')\n",
    "df['State'] = df['State'].fillna('Unknown')"
   ]
  },
  {
   "cell_type": "code",
   "execution_count": null,
   "id": "4d4bbcc7",
   "metadata": {},
   "outputs": [],
   "source": [
    "# Confirm remaining nulls\n",
    "print(\"Missing after fill:\")\n",
    "print(df[['County', 'State']].isnull().sum())"
   ]
  },
  {
   "cell_type": "code",
   "execution_count": null,
   "id": "75dafda3",
   "metadata": {
    "lines_to_next_cell": 2
   },
   "outputs": [],
   "source": [
    "df.head()"
   ]
  },
  {
   "cell_type": "markdown",
   "id": "a9fc4661",
   "metadata": {},
   "source": [
    "Cap the outliers - it keeps all the data while reducing the skew from extreme values."
   ]
  },
  {
   "cell_type": "code",
   "execution_count": null,
   "id": "1a1fb4b6",
   "metadata": {},
   "outputs": [],
   "source": [
    "df['Percent Electric Vehicles'] = np.where(df['Percent Electric Vehicles'] > upper_bound, upper_bound,\n",
    "                                 np.where(df['Percent Electric Vehicles'] < lower_bound, lower_bound, df['Percent Electric Vehicles']))"
   ]
  },
  {
   "cell_type": "code",
   "execution_count": null,
   "id": "af2b8bf2",
   "metadata": {},
   "outputs": [],
   "source": [
    "# Identify outliers\n",
    "outliers = df[(df['Percent Electric Vehicles'] < lower_bound) | (df['Percent Electric Vehicles'] > upper_bound)]\n",
    "print(\"Number of outliers in 'Percent Electric Vehicles':\", outliers.shape[0])"
   ]
  },
  {
   "cell_type": "markdown",
   "id": "19ace546",
   "metadata": {},
   "source": [
    "Convert all count columns to numeric (in case they are strings)"
   ]
  },
  {
   "cell_type": "code",
   "execution_count": null,
   "id": "e1a3eedd",
   "metadata": {},
   "outputs": [],
   "source": [
    "cols_to_convert = [\n",
    "    'Battery Electric Vehicles (BEVs)',\n",
    "    'Plug-In Hybrid Electric Vehicles (PHEVs)',\n",
    "    'Electric Vehicle (EV) Total',\n",
    "    'Non-Electric Vehicle Total',\n",
    "    'Total Vehicles',\n",
    "    'Percent Electric Vehicles'\n",
    "]"
   ]
  },
  {
   "cell_type": "code",
   "execution_count": null,
   "id": "072644a4",
   "metadata": {},
   "outputs": [],
   "source": [
    "for col in cols_to_convert:\n",
    "    df[col] = pd.to_numeric(df[col], errors='coerce')"
   ]
  },
  {
   "cell_type": "code",
   "execution_count": null,
   "id": "1078c025",
   "metadata": {},
   "outputs": [],
   "source": [
    "df[cols_to_convert].describe()"
   ]
  },
  {
   "cell_type": "markdown",
   "id": "8cd6e612",
   "metadata": {},
   "source": [
    "Identifying counties with most number of EVs"
   ]
  },
  {
   "cell_type": "code",
   "execution_count": null,
   "id": "cab80c00",
   "metadata": {},
   "outputs": [],
   "source": [
    "# Most EVs by County\n",
    "top_counties = df.groupby('County')['Electric Vehicle (EV) Total'].sum().sort_values(ascending=False).head(3)\n",
    "bottom_counties = df.groupby('County')['Electric Vehicle (EV) Total'].sum().sort_values().head(3)"
   ]
  },
  {
   "cell_type": "code",
   "execution_count": null,
   "id": "8fe4961e",
   "metadata": {},
   "outputs": [],
   "source": [
    "print(\"Top 3 Counties:\\n\", top_counties)\n",
    "print(\"\\nBottom 3 Counties:\\n\", bottom_counties)"
   ]
  },
  {
   "cell_type": "code",
   "execution_count": null,
   "id": "0bab42a6",
   "metadata": {},
   "outputs": [],
   "source": [
    "# Total sums for stacked column chart\n",
    "bev_total = df['Battery Electric Vehicles (BEVs)'].sum()\n",
    "phev_total = df['Plug-In Hybrid Electric Vehicles (PHEVs)'].sum()\n",
    "ev_total = df['Electric Vehicle (EV) Total'].sum()\n",
    "non_ev_total = df['Non-Electric Vehicle Total'].sum()\n",
    "all_total = df['Total Vehicles'].sum()"
   ]
  },
  {
   "cell_type": "code",
   "execution_count": null,
   "id": "54c6b217",
   "metadata": {},
   "outputs": [],
   "source": [
    "# Stacked column chart\n",
    "fig, ax = plt.subplots(figsize=(8, 6))"
   ]
  },
  {
   "cell_type": "code",
   "execution_count": null,
   "id": "a65617e6",
   "metadata": {},
   "outputs": [],
   "source": [
    "# Stack EV types\n",
    "ax.bar('EV Type Breakdown', bev_total, label='BEV', color='skyblue')\n",
    "ax.bar('EV Type Breakdown', phev_total, bottom=bev_total, label='PHEV', color='orange')"
   ]
  },
  {
   "cell_type": "code",
   "execution_count": null,
   "id": "0fbb42b1",
   "metadata": {},
   "outputs": [],
   "source": [
    "# Stack Total Vehicle categories\n",
    "ax.bar('All Vehicles', ev_total, label='EV', color='green')\n",
    "ax.bar('All Vehicles', non_ev_total, bottom=ev_total, label='Non-EV', color='red')"
   ]
  },
  {
   "cell_type": "code",
   "execution_count": null,
   "id": "a586f05e",
   "metadata": {},
   "outputs": [],
   "source": [
    "# Final touches\n",
    "ax.set_ylabel('Vehicle Count')\n",
    "ax.set_title('Stacked Column Chart: EV Breakdown and Total Vehicles')\n",
    "ax.legend()\n",
    "plt.tight_layout()\n",
    "plt.show()"
   ]
  },
  {
   "cell_type": "markdown",
   "id": "9c440875",
   "metadata": {},
   "source": [
    "Feature engineering"
   ]
  },
  {
   "cell_type": "code",
   "execution_count": null,
   "id": "b500f3e8",
   "metadata": {},
   "outputs": [],
   "source": [
    "# Extract year, month, and date\n",
    "df['year'] = df['Date'].dt.year\n",
    "df['month'] = df['Date'].dt.month\n",
    "df['numeric_date'] = df['Date'].dt.year * 12 + df['Date'].dt.month  # For trend"
   ]
  },
  {
   "cell_type": "code",
   "execution_count": null,
   "id": "85bf2eeb",
   "metadata": {},
   "outputs": [],
   "source": [
    "# Encode County\n",
    "le = LabelEncoder()\n",
    "df['county_encoded'] = le.fit_transform(df['County'])"
   ]
  },
  {
   "cell_type": "code",
   "execution_count": null,
   "id": "ea135168",
   "metadata": {},
   "outputs": [],
   "source": [
    "# Sort for lag creation\n",
    "df = df.sort_values(['County', 'Date'])"
   ]
  },
  {
   "cell_type": "code",
   "execution_count": null,
   "id": "5aa315f1",
   "metadata": {},
   "outputs": [],
   "source": [
    "# Assign time index per county\n",
    "df['months_since_start'] = df.groupby('County').cumcount()"
   ]
  },
  {
   "cell_type": "code",
   "execution_count": null,
   "id": "a308361a",
   "metadata": {},
   "outputs": [],
   "source": [
    "#Lags are only based on past data from the same county\n",
    "# === Create lag features (1–3 months) ===\n",
    "for lag in [1, 2, 3]:\n",
    "    df[f'ev_total_lag{lag}'] = df.groupby('County')['Electric Vehicle (EV) Total'].shift(lag)"
   ]
  },
  {
   "cell_type": "code",
   "execution_count": null,
   "id": "865c9616",
   "metadata": {},
   "outputs": [],
   "source": [
    "# === Rolling average (3-month, prior) ===\n",
    "df['ev_total_roll_mean_3'] = df.groupby('County')['Electric Vehicle (EV) Total'] \\\n",
    "                               .transform(lambda x: x.shift(1).rolling(3).mean())"
   ]
  },
  {
   "cell_type": "code",
   "execution_count": null,
   "id": "2b8256e9",
   "metadata": {},
   "outputs": [],
   "source": [
    "# === Percent change (no fill method) ===\n",
    "df['ev_total_pct_change_1'] = df.groupby('County')['Electric Vehicle (EV) Total'] \\\n",
    "                                .pct_change(periods=1, fill_method=None)"
   ]
  },
  {
   "cell_type": "code",
   "execution_count": null,
   "id": "eabf2d5b",
   "metadata": {},
   "outputs": [],
   "source": [
    "df['ev_total_pct_change_3'] = df.groupby('County')['Electric Vehicle (EV) Total'] \\\n",
    "                                .pct_change(periods=3, fill_method=None)"
   ]
  },
  {
   "cell_type": "code",
   "execution_count": null,
   "id": "aa200071",
   "metadata": {},
   "outputs": [],
   "source": [
    "# === Clean up any infs/NaNs ===\n",
    "df['ev_total_pct_change_1'] = df['ev_total_pct_change_1'].replace([np.inf, -np.inf], np.nan).fillna(0)\n",
    "df['ev_total_pct_change_3'] = df['ev_total_pct_change_3'].replace([np.inf, -np.inf], np.nan).fillna(0)"
   ]
  },
  {
   "cell_type": "code",
   "execution_count": null,
   "id": "66555600",
   "metadata": {},
   "outputs": [],
   "source": [
    "# Cumulative EV count per county\n",
    "df['cumulative_ev'] = df.groupby('County')['Electric Vehicle (EV) Total'].cumsum()"
   ]
  },
  {
   "cell_type": "code",
   "execution_count": null,
   "id": "7e955545",
   "metadata": {},
   "outputs": [],
   "source": [
    "# 6-month rolling linear slope of cumulative growth\n",
    "df['ev_growth_slope'] = df.groupby('County')['cumulative_ev'].transform(\n",
    "    lambda x: x.rolling(6).apply(lambda y: np.polyfit(range(len(y)), y, 1)[0] if len(y) == 6 else np.nan)\n",
    ")"
   ]
  },
  {
   "cell_type": "markdown",
   "id": "8f50a05c",
   "metadata": {},
   "source": [
    "Drop early rows with no lag data"
   ]
  },
  {
   "cell_type": "code",
   "execution_count": null,
   "id": "dd93c20a",
   "metadata": {},
   "outputs": [],
   "source": [
    "df = df.dropna().reset_index(drop=True)\n",
    "df.to_csv('preprocessed_ev_data.csv', index=False)"
   ]
  },
  {
   "cell_type": "code",
   "execution_count": null,
   "id": "266e69a9",
   "metadata": {},
   "outputs": [],
   "source": [
    "df.head()"
   ]
  },
  {
   "cell_type": "code",
   "execution_count": null,
   "id": "3afae079",
   "metadata": {},
   "outputs": [],
   "source": [
    "# Define features and target\n",
    "features = [\n",
    "    'months_since_start',\n",
    "    'county_encoded',\n",
    "    'ev_total_lag1',\n",
    "    'ev_total_lag2',\n",
    "    'ev_total_lag3',\n",
    "    'ev_total_roll_mean_3',\n",
    "    'ev_total_pct_change_1',\n",
    "    'ev_total_pct_change_3',\n",
    "    'ev_growth_slope',\n",
    "]"
   ]
  },
  {
   "cell_type": "code",
   "execution_count": null,
   "id": "c6223571",
   "metadata": {},
   "outputs": [],
   "source": [
    "target = 'Electric Vehicle (EV) Total'\n",
    "X = df[features]\n",
    "y = df[target]"
   ]
  },
  {
   "cell_type": "code",
   "execution_count": null,
   "id": "36ddf2ec",
   "metadata": {},
   "outputs": [],
   "source": [
    "X.head()"
   ]
  },
  {
   "cell_type": "code",
   "execution_count": null,
   "id": "9e170861",
   "metadata": {},
   "outputs": [],
   "source": [
    "X.shape"
   ]
  },
  {
   "cell_type": "code",
   "execution_count": null,
   "id": "1207e203",
   "metadata": {},
   "outputs": [],
   "source": [
    "# Train-test split\n",
    "X_train, X_test, y_train, y_test = train_test_split(X, y, shuffle=False, test_size=0.1)\n",
    "y_test.head()"
   ]
  },
  {
   "cell_type": "markdown",
   "id": "93e41af0",
   "metadata": {},
   "source": [
    "Model Selection"
   ]
  },
  {
   "cell_type": "code",
   "execution_count": null,
   "id": "c4013417",
   "metadata": {},
   "outputs": [],
   "source": [
    "# Define param distribution\n",
    "param_dist = {\n",
    "    'n_estimators': [100, 150, 200, 250],\n",
    "    'max_depth': [None, 5, 10, 15],\n",
    "    'min_samples_split': [2, 4, 6, 8],\n",
    "    'min_samples_leaf': [1, 2, 3],\n",
    "    'max_features': ['sqrt', 'log2', None]\n",
    "}"
   ]
  },
  {
   "cell_type": "code",
   "execution_count": null,
   "id": "cf16dcc9",
   "metadata": {},
   "outputs": [],
   "source": [
    "# Base model\n",
    "rf = RandomForestRegressor(random_state=42)"
   ]
  },
  {
   "cell_type": "code",
   "execution_count": null,
   "id": "148b1e2e",
   "metadata": {},
   "outputs": [],
   "source": [
    "# Randomized Search\n",
    "random_search = RandomizedSearchCV(\n",
    "    estimator=rf,\n",
    "    param_distributions=param_dist,\n",
    "    n_iter=30,  # 30 random combos\n",
    "    scoring='r2',\n",
    "    cv=3,\n",
    "    n_jobs=-1,\n",
    "    verbose=1,\n",
    "    random_state=42\n",
    ")"
   ]
  },
  {
   "cell_type": "code",
   "execution_count": null,
   "id": "f648830f",
   "metadata": {},
   "outputs": [],
   "source": [
    "# Fit model\n",
    "random_search.fit(X_train, y_train)"
   ]
  },
  {
   "cell_type": "code",
   "execution_count": null,
   "id": "4830770f",
   "metadata": {},
   "outputs": [],
   "source": [
    "# Best model\n",
    "model = random_search.best_estimator_\n",
    "print(\"Best Parameters:\", random_search.best_params_)"
   ]
  },
  {
   "cell_type": "code",
   "execution_count": null,
   "id": "4ec382fb",
   "metadata": {},
   "outputs": [],
   "source": [
    "# Predict and evaluate\n",
    "y_pred = model.predict(X_test)\n",
    "X_test.head()"
   ]
  },
  {
   "cell_type": "markdown",
   "id": "9c071320",
   "metadata": {},
   "source": [
    "Model Evaluation\n",
    "Create a DataFrame with actual and predicted values"
   ]
  },
  {
   "cell_type": "code",
   "execution_count": null,
   "id": "f9f33bbb",
   "metadata": {},
   "outputs": [],
   "source": [
    "comparison_df = pd.DataFrame({\n",
    "    'Actual EV Count': y_test.values,\n",
    "    'Predicted EV Count': y_pred\n",
    "})"
   ]
  },
  {
   "cell_type": "code",
   "execution_count": null,
   "id": "eb16ae18",
   "metadata": {},
   "outputs": [],
   "source": [
    "# Round for readability\n",
    "comparison_df['Predicted EV Count'] = comparison_df['Predicted EV Count'].round(2)"
   ]
  },
  {
   "cell_type": "code",
   "execution_count": null,
   "id": "a55c2e2a",
   "metadata": {},
   "outputs": [],
   "source": [
    "# Optionally reset index if needed\n",
    "comparison_df.reset_index(drop=True, inplace=True)"
   ]
  },
  {
   "cell_type": "code",
   "execution_count": null,
   "id": "80e51536",
   "metadata": {
    "lines_to_next_cell": 1
   },
   "outputs": [],
   "source": [
    "# Show the first 10 rows\n",
    "comparison_df.head(10)"
   ]
  },
  {
   "cell_type": "markdown",
   "id": "9baf4273",
   "metadata": {},
   "source": [
    "Actual vs Predicted EV Count"
   ]
  },
  {
   "cell_type": "code",
   "execution_count": null,
   "id": "6b98a18f",
   "metadata": {
    "lines_to_next_cell": 1
   },
   "outputs": [],
   "source": [
    "def evaluate(y_true, y_pred):\n",
    "    mae = mean_absolute_error(y_true, y_pred)\n",
    "    rmse = np.sqrt(mean_squared_error(y_true, y_pred))\n",
    "    r2Score = r2_score(y_true, y_pred)\n",
    "    print(f\"MAE: {mae:.2f}, RMSE: {rmse:.2f}, R2 Score: {r2Score:.2f}\")"
   ]
  },
  {
   "cell_type": "code",
   "execution_count": null,
   "id": "5e1214db",
   "metadata": {},
   "outputs": [],
   "source": [
    "evaluate(y_test, y_pred)"
   ]
  },
  {
   "cell_type": "code",
   "execution_count": null,
   "id": "af16dfc6",
   "metadata": {
    "lines_to_next_cell": 2
   },
   "outputs": [],
   "source": [
    "# Plot actual vs predicted\n",
    "plt.figure(figsize=(10,6))\n",
    "plt.plot(y_test.values, label='Actual')\n",
    "plt.plot(y_pred, label='Predicted')\n",
    "plt.title(\"Actual vs Predicted EV Count\")\n",
    "plt.xlabel(\"Sample Index\")\n",
    "plt.ylabel(\"EV Count\")\n",
    "plt.legend()\n",
    "plt.grid(True)\n",
    "plt.tight_layout()\n",
    "plt.show()"
   ]
  },
  {
   "cell_type": "code",
   "execution_count": null,
   "id": "60b1f503",
   "metadata": {},
   "outputs": [],
   "source": [
    "#Get Feature Importance\n",
    "# Corrected the attribute name from get_feature_importance() to feature_importances_\n",
    "importances = model.feature_importances_"
   ]
  },
  {
   "cell_type": "code",
   "execution_count": null,
   "id": "367a5eff",
   "metadata": {},
   "outputs": [],
   "source": [
    "# Plot feature importance\n",
    "plt.figure(figsize=(8,5))\n",
    "plt.barh(features, importances)\n",
    "plt.xlabel('Importance Score')\n",
    "# Updated the title to reflect that the model is RandomForestRegressor\n",
    "plt.title('Feature Importance - RandomForestRegressor Model')\n",
    "plt.gca().invert_yaxis()  # Highest importance on top\n",
    "plt.show()"
   ]
  },
  {
   "cell_type": "markdown",
   "id": "ec3cf5fc",
   "metadata": {},
   "source": [
    "Forecasting with Regression Model for Next 3 Years\n",
    "Forecasting total eletric vehicles for a specific county (e.g., Clark)"
   ]
  },
  {
   "cell_type": "code",
   "execution_count": null,
   "id": "675daf92",
   "metadata": {},
   "outputs": [],
   "source": [
    "# Define features and target\n",
    "featuresX = ['County', 'county_encoded']"
   ]
  },
  {
   "cell_type": "code",
   "execution_count": null,
   "id": "abd40aee",
   "metadata": {
    "lines_to_next_cell": 2
   },
   "outputs": [],
   "source": [
    "countyX = df[featuresX]"
   ]
  },
  {
   "cell_type": "code",
   "execution_count": null,
   "id": "a8413e1e",
   "metadata": {},
   "outputs": [],
   "source": [
    "print(\"List of unique counties:\")\n",
    "print(df['County'].dropna().unique())"
   ]
  },
  {
   "cell_type": "code",
   "execution_count": null,
   "id": "2b254833",
   "metadata": {},
   "outputs": [],
   "source": [
    "print(\"Total unique counties:\", df['County'].nunique())"
   ]
  },
  {
   "cell_type": "code",
   "execution_count": null,
   "id": "5975d1e9",
   "metadata": {},
   "outputs": [],
   "source": []
  },
  {
   "cell_type": "code",
   "execution_count": null,
   "id": "fe733d77",
   "metadata": {},
   "outputs": [],
   "source": [
    "# Set your county name\n",
    "county = \"Kings\""
   ]
  },
  {
   "cell_type": "code",
   "execution_count": null,
   "id": "72daffee",
   "metadata": {},
   "outputs": [],
   "source": [
    "# Encode county\n",
    "try:\n",
    "    county_code = le.transform([county])[0]\n",
    "    print(f\"County '{county}' encoded as {county_code}.\")\n",
    "except ValueError:\n",
    "    print(f\"Error: '{county}' not found in LabelEncoder.\")\n",
    "    exit()"
   ]
  },
  {
   "cell_type": "code",
   "execution_count": null,
   "id": "de81a6ae",
   "metadata": {},
   "outputs": [],
   "source": [
    "# Filter historical data\n",
    "county_df = df[df['county_encoded'] == county_code].sort_values(\"numeric_date\")\n",
    "if county_df.empty:\n",
    "    print(f\"Warning: No data found for county '{county}'.\")\n",
    "    exit()"
   ]
  },
  {
   "cell_type": "code",
   "execution_count": null,
   "id": "ca192ea6",
   "metadata": {},
   "outputs": [],
   "source": [
    "# Prepare EV history\n",
    "historical_ev = list(county_df['Electric Vehicle (EV) Total'].values[-6:])\n",
    "cumulative_ev = list(np.cumsum(historical_ev))\n",
    "slope_history = []\n",
    "months_since_start = county_df['months_since_start'].max()"
   ]
  },
  {
   "cell_type": "code",
   "execution_count": null,
   "id": "de57aa39",
   "metadata": {},
   "outputs": [],
   "source": [
    "historical = county_df[['year', 'month', 'numeric_date', 'Electric Vehicle (EV) Total', 'months_since_start']].copy()\n",
    "historical['Source'] = 'Historical'\n",
    "historical['Date'] = pd.to_datetime(historical[['year', 'month']].assign(day=1))"
   ]
  },
  {
   "cell_type": "code",
   "execution_count": null,
   "id": "475fed1e",
   "metadata": {},
   "outputs": [],
   "source": [
    "# Forecast next 36 months\n",
    "latest_row = county_df.iloc[-1].copy()\n",
    "future_rows = []"
   ]
  },
  {
   "cell_type": "code",
   "execution_count": null,
   "id": "3c23fe51",
   "metadata": {},
   "outputs": [],
   "source": [
    "for i in range(1, 37):\n",
    "    next_date = pd.to_datetime(latest_row['year'] * 100 + latest_row['month'], format='%Y%m') + pd.DateOffset(months=1)\n",
    "    y, m = next_date.year, next_date.month\n",
    "    numeric_date = y * 12 + m\n",
    "    months_since_start += 1\n",
    "\n",
    "    lag1, lag2, lag3 = historical_ev[-1], historical_ev[-2], historical_ev[-3]\n",
    "    roll_mean = np.mean([lag1, lag2, lag3])\n",
    "    pct_change_1 = (lag1 - lag2) / lag2 if lag2 != 0 else 0\n",
    "    pct_change_3 = (lag1 - lag3) / lag3 if lag3 != 0 else 0\n",
    "\n",
    "    # Compute slope\n",
    "    recent_cumulative = cumulative_ev[-6:]\n",
    "    ev_growth_slope = np.polyfit(range(len(recent_cumulative)), recent_cumulative, 1)[0] if len(recent_cumulative) == 6 else 0\n",
    "\n",
    "    # Construct new row (removed year/month/numeric_date/acceleration)\n",
    "    new_row = {\n",
    "        'months_since_start': months_since_start,\n",
    "        'county_encoded': county_code,\n",
    "        'ev_total_lag1': lag1,\n",
    "        'ev_total_lag2': lag2,\n",
    "        'ev_total_lag3': lag3,\n",
    "        'ev_total_roll_mean_3': roll_mean,\n",
    "        'ev_total_pct_change_1': pct_change_1,\n",
    "        'ev_total_pct_change_3': pct_change_3,\n",
    "        'ev_growth_slope': ev_growth_slope\n",
    "    }\n",
    "\n",
    "    # Predict\n",
    "    X_new = pd.DataFrame([new_row])[features]\n",
    "    pred = model.predict(X_new)[0]\n",
    "    new_row['Electric Vehicle (EV) Total'] = pred\n",
    "\n",
    "    # Update rolling histories\n",
    "    historical_ev.append(pred)\n",
    "    if len(historical_ev) > 6:\n",
    "        historical_ev.pop(0)\n",
    "\n",
    "    cumulative_ev.append(cumulative_ev[-1] + pred)\n",
    "    if len(cumulative_ev) > 6:\n",
    "        cumulative_ev.pop(0)\n",
    "\n",
    "    future_rows.append({\n",
    "        'Date': next_date,\n",
    "        'Electric Vehicle (EV) Total': pred,\n",
    "        'months_since_start': months_since_start,\n",
    "        'Source': 'Forecast'\n",
    "    })\n",
    "\n",
    "    latest_row['year'], latest_row['month'] = y, m"
   ]
  },
  {
   "cell_type": "code",
   "execution_count": null,
   "id": "9c467e0a",
   "metadata": {},
   "outputs": [],
   "source": [
    "# Forecast DataFrame\n",
    "forecast_df = pd.DataFrame(future_rows)"
   ]
  },
  {
   "cell_type": "code",
   "execution_count": null,
   "id": "6a93baee",
   "metadata": {},
   "outputs": [],
   "source": [
    "# Combine and plot\n",
    "historical['Date'] = pd.to_datetime(historical[['year', 'month']].assign(day=1))\n",
    "historical = historical[['Date', 'Electric Vehicle (EV) Total', 'months_since_start', 'Source']]\n",
    "combined = pd.concat([historical, forecast_df], ignore_index=True)"
   ]
  },
  {
   "cell_type": "code",
   "execution_count": null,
   "id": "23cb9ec1",
   "metadata": {},
   "outputs": [],
   "source": [
    "# Plot\n",
    "plt.figure(figsize=(12, 6))\n",
    "for source, group in combined.groupby('Source'):\n",
    "    plt.plot(group['Date'], group['Electric Vehicle (EV) Total'], label=source,\n",
    "             marker='o' if source == 'Forecast' else '.', linestyle='-' if source == 'Forecast' else '--')"
   ]
  },
  {
   "cell_type": "code",
   "execution_count": null,
   "id": "00d79d89",
   "metadata": {
    "lines_to_next_cell": 2
   },
   "outputs": [],
   "source": [
    "plt.title(f\"EV Adoption Forecast vs Historical - {county} County (Monthly Forecast for 3 Years)\")\n",
    "plt.xlabel(\"Date\")\n",
    "plt.ylabel(\"EV Count\")\n",
    "plt.grid(True)\n",
    "plt.legend()\n",
    "plt.tight_layout()\n",
    "plt.show()"
   ]
  },
  {
   "cell_type": "code",
   "execution_count": null,
   "id": "8ab735c4",
   "metadata": {},
   "outputs": [],
   "source": [
    "# --- Sort by date to ensure proper cumulative behavior ---\n",
    "combined = combined.sort_values(\"Date\")"
   ]
  },
  {
   "cell_type": "code",
   "execution_count": null,
   "id": "4dbfa853",
   "metadata": {},
   "outputs": [],
   "source": [
    "# --- Calculate cumulative EV count ---\n",
    "combined['Cumulative EVs'] = combined['Electric Vehicle (EV) Total'].cumsum()"
   ]
  },
  {
   "cell_type": "code",
   "execution_count": null,
   "id": "e418c659",
   "metadata": {},
   "outputs": [],
   "source": [
    "# --- Plot cumulative EV adoption ---\n",
    "plt.figure(figsize=(12, 6))\n",
    "for source, group in combined.groupby('Source'):\n",
    "    plt.plot(group['Date'], group['Cumulative EVs'], label=f'{source} (Cumulative)',\n",
    "             marker='o' if source == 'Forecast' else '.', linestyle='-' if source == 'Forecast' else '--')"
   ]
  },
  {
   "cell_type": "code",
   "execution_count": null,
   "id": "78d9307b",
   "metadata": {
    "lines_to_next_cell": 2
   },
   "outputs": [],
   "source": [
    "plt.title(f\"Cumulative EV Adoption - {county} County\")\n",
    "plt.xlabel(\"Date\")\n",
    "plt.ylabel(\"Cumulative EV Count\")\n",
    "plt.grid(True)\n",
    "plt.legend()\n",
    "plt.tight_layout()\n",
    "plt.show()"
   ]
  },
  {
   "cell_type": "markdown",
   "id": "bfe0df3b",
   "metadata": {},
   "source": [
    "#Forecasting for Top-5 Counties"
   ]
  },
  {
   "cell_type": "code",
   "execution_count": null,
   "id": "371351af",
   "metadata": {},
   "outputs": [],
   "source": [
    "forecast_horizon = 36  # 3 years = 36 months"
   ]
  },
  {
   "cell_type": "code",
   "execution_count": null,
   "id": "4affce57",
   "metadata": {},
   "outputs": [],
   "source": [
    "all_combined = []\n",
    "unique_counties = df['County'].dropna().unique()"
   ]
  },
  {
   "cell_type": "code",
   "execution_count": null,
   "id": "8aa9030d",
   "metadata": {},
   "outputs": [],
   "source": [
    "for county in unique_counties:\n",
    "    try:\n",
    "        county_code = le.transform([county])[0]\n",
    "    except ValueError:\n",
    "        continue\n",
    "\n",
    "    county_df = df[df['county_encoded'] == county_code].sort_values(\"numeric_date\")\n",
    "    if county_df.empty or county_df.shape[0] < 6:\n",
    "        continue\n",
    "\n",
    "    # Extract initial months_since_start\n",
    "    months_since_start = county_df['months_since_start'].max()\n",
    "\n",
    "    historical = county_df[['Date', 'Electric Vehicle (EV) Total', 'months_since_start']].copy()\n",
    "    historical['Source'] = 'Historical'\n",
    "    historical['County'] = county\n",
    "\n",
    "    historical_ev = list(county_df['Electric Vehicle (EV) Total'].values[-6:])\n",
    "    cumulative_ev = list(np.cumsum(historical_ev))\n",
    "    slope_history = []\n",
    "\n",
    "    future_rows = []\n",
    "\n",
    "    for _ in range(forecast_horizon):\n",
    "        months_since_start += 1\n",
    "\n",
    "        lag1, lag2, lag3 = historical_ev[-1], historical_ev[-2], historical_ev[-3]\n",
    "        roll_mean = np.mean([lag1, lag2, lag3])\n",
    "        pct_change_1 = (lag1 - lag2) / lag2 if lag2 != 0 else 0\n",
    "        pct_change_3 = (lag1 - lag3) / lag3 if lag3 != 0 else 0\n",
    "\n",
    "        recent_cumulative = cumulative_ev[-6:]\n",
    "        ev_growth_slope = np.polyfit(range(len(recent_cumulative)), recent_cumulative, 1)[0] if len(recent_cumulative) == 6 else 0\n",
    "\n",
    "        # Optional: track slope history for acceleration (not used here)\n",
    "        slope_history.append(ev_growth_slope)\n",
    "        if len(slope_history) > 2:\n",
    "            slope_history.pop(0)\n",
    "\n",
    "        new_row = {\n",
    "            'months_since_start': months_since_start,\n",
    "            'county_encoded': county_code,\n",
    "            'ev_total_lag1': lag1,\n",
    "            'ev_total_lag2': lag2,\n",
    "            'ev_total_lag3': lag3,\n",
    "            'ev_total_roll_mean_3': roll_mean,\n",
    "            'ev_total_pct_change_1': pct_change_1,\n",
    "            'ev_total_pct_change_3': pct_change_3,\n",
    "            'ev_growth_slope': ev_growth_slope\n",
    "        }\n",
    "\n",
    "        # Predict\n",
    "        X_new = pd.DataFrame([new_row])[features]\n",
    "        pred = model.predict(X_new)[0]\n",
    "        new_row['Electric Vehicle (EV) Total'] = pred\n",
    "\n",
    "        # Store for plotting\n",
    "        forecast_date = historical['Date'].max() + pd.DateOffset(months=len(future_rows) + 1)\n",
    "        future_rows.append({\n",
    "            'Date': forecast_date,\n",
    "            'Electric Vehicle (EV) Total': pred,\n",
    "            'months_since_start': months_since_start,\n",
    "            'County': county,\n",
    "            'Source': 'Forecast'\n",
    "        })\n",
    "\n",
    "        # Update EV history\n",
    "        historical_ev.append(pred)\n",
    "        if len(historical_ev) > 6:\n",
    "            historical_ev.pop(0)\n",
    "\n",
    "        cumulative_ev.append(cumulative_ev[-1] + pred)\n",
    "        if len(cumulative_ev) > 6:\n",
    "            cumulative_ev.pop(0)\n",
    "\n",
    "    forecast_df = pd.DataFrame(future_rows)\n",
    "    combined = pd.concat([historical, forecast_df], ignore_index=True)\n",
    "    combined = combined.sort_values(\"Date\")\n",
    "    combined['Cumulative EVs'] = combined['Electric Vehicle (EV) Total'].cumsum()\n",
    "\n",
    "    all_combined.append(combined)"
   ]
  },
  {
   "cell_type": "code",
   "execution_count": null,
   "id": "01ada537",
   "metadata": {},
   "outputs": [],
   "source": [
    "# Combine all counties\n",
    "full_df = pd.concat(all_combined)"
   ]
  },
  {
   "cell_type": "code",
   "execution_count": null,
   "id": "c980f352",
   "metadata": {},
   "outputs": [],
   "source": [
    "# Get final cumulative EV count per county\n",
    "final_totals = full_df.groupby('County')['Cumulative EVs'].max().sort_values(ascending=False)\n",
    "top_5_counties = final_totals.head(5).index.tolist()"
   ]
  },
  {
   "cell_type": "code",
   "execution_count": null,
   "id": "8eb3b349",
   "metadata": {},
   "outputs": [],
   "source": [
    "# Filter top 5 counties\n",
    "top_5_df = full_df[full_df['County'].isin(top_5_counties)]"
   ]
  },
  {
   "cell_type": "code",
   "execution_count": null,
   "id": "ff75fa1e",
   "metadata": {},
   "outputs": [],
   "source": [
    "# Plot\n",
    "plt.figure(figsize=(14, 7))\n",
    "for county, group in top_5_df.groupby('County'):\n",
    "    plt.plot(group['Date'], group['Cumulative EVs'], label=county, marker='o')"
   ]
  },
  {
   "cell_type": "code",
   "execution_count": null,
   "id": "dd2d4d18",
   "metadata": {},
   "outputs": [],
   "source": [
    "# Format x-axis to show one tick per year\n",
    "plt.title(\"Top 5 Counties by Cumulative EV Adoption (Historical + 3-Year Forecast)\")\n",
    "plt.xlabel(\"Date\")\n",
    "plt.ylabel(\"Cumulative EV Count\")\n",
    "plt.grid(True)\n",
    "plt.legend(title=\"County\")\n",
    "plt.xticks(\n",
    "    ticks=pd.date_range(start=top_5_df['Date'].min(), end=top_5_df['Date'].max(), freq='YS'),\n",
    "    labels=[str(d.year) for d in pd.date_range(start=top_5_df['Date'].min(), end=top_5_df['Date'].max(), freq='YS')],\n",
    "    rotation=0\n",
    ")\n",
    "plt.tight_layout()\n",
    "plt.show()"
   ]
  },
  {
   "cell_type": "markdown",
   "id": "21a0a046",
   "metadata": {},
   "source": [
    "#Final Model Testing and Save the Model"
   ]
  },
  {
   "cell_type": "code",
   "execution_count": null,
   "id": "525e3384",
   "metadata": {},
   "outputs": [],
   "source": [
    "import joblib"
   ]
  },
  {
   "cell_type": "code",
   "execution_count": null,
   "id": "ac28482b",
   "metadata": {},
   "outputs": [],
   "source": [
    "# Save the trained model to file\n",
    "joblib.dump(model, 'forecasting_ev_model.pkl')\n",
    "print(\"Model saved to 'forecasting_ev_model.pkl'\")"
   ]
  },
  {
   "cell_type": "code",
   "execution_count": null,
   "id": "f91214cb",
   "metadata": {},
   "outputs": [],
   "source": [
    "# Load model from file\n",
    "loaded_model = joblib.load('forecasting_ev_model.pkl')\n",
    "print(\"Model loaded successfully.\")"
   ]
  },
  {
   "cell_type": "code",
   "execution_count": null,
   "id": "41dedec6",
   "metadata": {},
   "outputs": [],
   "source": [
    "# Make predictions\n",
    "# Test prediction on new or existing sample\n",
    "sample = X_test.iloc[[0]]  # use one row as test\n",
    "true_value = y_test.iloc[0]\n",
    "predicted_value = loaded_model.predict(sample)[0]"
   ]
  },
  {
   "cell_type": "code",
   "execution_count": null,
   "id": "1bbe03a1",
   "metadata": {},
   "outputs": [],
   "source": [
    "print(f\"\\n🔍 Testing saved model on 1 sample:\")\n",
    "print(f\"Actual EVs: {true_value:.2f}, Predicted EVs: {predicted_value:.2f}\")"
   ]
  }
 ],
 "metadata": {
  "jupytext": {
   "cell_metadata_filter": "-all",
   "main_language": "python",
   "notebook_metadata_filter": "-all"
  },
  "language_info": {
   "name": "python"
  }
 },
 "nbformat": 4,
 "nbformat_minor": 5
}
